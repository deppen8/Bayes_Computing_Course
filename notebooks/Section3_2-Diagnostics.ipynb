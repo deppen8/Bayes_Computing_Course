{
 "cells": [
  {
   "cell_type": "code",
   "execution_count": 1,
   "metadata": {},
   "outputs": [
    {
     "name": "stderr",
     "output_type": "stream",
     "text": [
      "WARNING (theano.tensor.blas): Using NumPy C-API based implementation for BLAS functions.\n"
     ]
    }
   ],
   "source": [
    "import matplotlib.pyplot as plt\n",
    "import numpy as np\n",
    "import scipy.stats as st\n",
    "import pymc3 as pm\n",
    "import theano.tensor as tt\n",
    "import arviz\n",
    "import warnings\n",
    "warnings.simplefilter(\"ignore\")"
   ]
  },
  {
   "cell_type": "markdown",
   "metadata": {},
   "source": [
    "# Basic Diagnostics\n",
    "\n",
    "This is a quick overview to a few diagnostics:\n",
    "\n",
    "- Traceplot\n",
    "- Divergences\n",
    "- Effective Sample Size\n",
    "- r-hat\n",
    "\n",
    "## Traceplot \n",
    "\n",
    "This is a simple plot that is a good quick check to make sure nothing is obviously wrong. We have done some work with step size tuning for Metropolis-Hastings, and that is a good jumping off point for a quiz on whether your step size is too small, too large, pretty good, or if it is actually independent samples: [quiz here](https://canyon289.github.io/bayesian-model-evaluation/lessonplans/mcmc_basics/#/14)\n",
    "\n",
    "## Divergences\n",
    "\n",
    "Hamiltonian Monte Carlo (NUTS is a flavor of this) does some numerical integration. When the integration goes wrong, it can go a lot wrong. This is sometimes considered a feature! There may be parts of the posterior which are hard to explore for geometric reasons. Two ways of solving divergences are\n",
    "\n",
    "1. **Set a higher \"target accept\" rate**: Similarly (but not the same) as for Metropolis-Hastings, larger integrator steps lead to lower acceptance rates. A higher `target_accept` will generally cause a smaller step size, and more accurate integration.\n",
    "2. **Reparametrize**: If you can write your model in a different way that has the same joint probability density, you might do that. A lot of work is being done to automate this, since it requires careful work, and one goal of a probabilistic programming language is to iterate quickly. See [Autoconj: Recognizing and Exploiting Conjugacy Without a Domain-Specific Language](https://arxiv.org/abs/1811.11926)(Hoffmann, Johnson, Tran), [Automatic Reparameterisation of Probabilistic Programs](https://arxiv.org/abs/1906.03028)(Gorinova, Moore, Hoffmann). There is work on this also in [symbolic pymc](https://github.com/pymc-devs/symbolic-pymc).\n",
    "\n",
    "You should be wary of a trace that contains divergences, and give thought to how to fix them (though we all sometimes use those traces anyways).\n",
    "\n",
    "### Divergence example\n",
    "\n",
    "Neal's funnel is a famous example of a difficult geometry:"
   ]
  },
  {
   "cell_type": "code",
   "execution_count": 2,
   "metadata": {},
   "outputs": [
    {
     "name": "stderr",
     "output_type": "stream",
     "text": [
      "Auto-assigning NUTS sampler...\n",
      "Initializing NUTS using jitter+adapt_diag...\n",
      "/home/fonnesbeck/anaconda3/envs/bayes_course/lib/python3.7/site-packages/theano/tensor/basic.py:6611: FutureWarning: Using a non-tuple sequence for multidimensional indexing is deprecated; use `arr[tuple(seq)]` instead of `arr[seq]`. In the future this will be interpreted as an array index, `arr[np.array(seq)]`, which will result either in an error or a different result.\n",
      "  result[diagonal_slice] = x\n",
      "/home/fonnesbeck/anaconda3/envs/bayes_course/lib/python3.7/site-packages/theano/tensor/basic.py:6611: FutureWarning: Using a non-tuple sequence for multidimensional indexing is deprecated; use `arr[tuple(seq)]` instead of `arr[seq]`. In the future this will be interpreted as an array index, `arr[np.array(seq)]`, which will result either in an error or a different result.\n",
      "  result[diagonal_slice] = x\n",
      "/home/fonnesbeck/anaconda3/envs/bayes_course/lib/python3.7/site-packages/theano/tensor/basic.py:6611: FutureWarning: Using a non-tuple sequence for multidimensional indexing is deprecated; use `arr[tuple(seq)]` instead of `arr[seq]`. In the future this will be interpreted as an array index, `arr[np.array(seq)]`, which will result either in an error or a different result.\n",
      "  result[diagonal_slice] = x\n",
      "/home/fonnesbeck/anaconda3/envs/bayes_course/lib/python3.7/site-packages/theano/tensor/basic.py:6611: FutureWarning: Using a non-tuple sequence for multidimensional indexing is deprecated; use `arr[tuple(seq)]` instead of `arr[seq]`. In the future this will be interpreted as an array index, `arr[np.array(seq)]`, which will result either in an error or a different result.\n",
      "  result[diagonal_slice] = x\n",
      "Multiprocess sampling (2 chains in 2 jobs)\n",
      "NUTS: [x_vec, v]\n"
     ]
    },
    {
     "data": {
      "text/html": [
       "\n",
       "    <div>\n",
       "        <style>\n",
       "            /* Turns off some styling */\n",
       "            progress {\n",
       "                /* gets rid of default border in Firefox and Opera. */\n",
       "                border: none;\n",
       "                /* Needs to be in here for Safari polyfill so background images work as expected. */\n",
       "                background-size: auto;\n",
       "            }\n",
       "            .progress-bar-interrupted, .progress-bar-interrupted::-webkit-progress-bar {\n",
       "                background: #F44336;\n",
       "            }\n",
       "        </style>\n",
       "      <progress value='4000' class='' max='4000' style='width:300px; height:20px; vertical-align: middle;'></progress>\n",
       "      100.00% [4000/4000 00:11<00:00 Sampling 2 chains, 163 divergences]\n",
       "    </div>\n",
       "    "
      ],
      "text/plain": [
       "<IPython.core.display.HTML object>"
      ]
     },
     "metadata": {},
     "output_type": "display_data"
    },
    {
     "name": "stderr",
     "output_type": "stream",
     "text": [
      "/home/fonnesbeck/anaconda3/envs/bayes_course/lib/python3.7/site-packages/theano/tensor/basic.py:6611: FutureWarning: Using a non-tuple sequence for multidimensional indexing is deprecated; use `arr[tuple(seq)]` instead of `arr[seq]`. In the future this will be interpreted as an array index, `arr[np.array(seq)]`, which will result either in an error or a different result.\n",
      "  result[diagonal_slice] = x\n",
      "/home/fonnesbeck/anaconda3/envs/bayes_course/lib/python3.7/site-packages/theano/tensor/basic.py:6611: FutureWarning: Using a non-tuple sequence for multidimensional indexing is deprecated; use `arr[tuple(seq)]` instead of `arr[seq]`. In the future this will be interpreted as an array index, `arr[np.array(seq)]`, which will result either in an error or a different result.\n",
      "  result[diagonal_slice] = x\n",
      "Sampling 2 chains for 1_000 tune and 1_000 draw iterations (2_000 + 2_000 draws total) took 12 seconds.\n",
      "There were 32 divergences after tuning. Increase `target_accept` or reparameterize.\n",
      "There were 131 divergences after tuning. Increase `target_accept` or reparameterize.\n",
      "The acceptance probability does not match the target. It is 0.7030248253393613, but should be close to 0.8. Try to increase the number of tuning steps.\n",
      "The estimated number of effective samples is smaller than 200 for some parameters.\n"
     ]
    }
   ],
   "source": [
    "def neals_funnel(dims=1):\n",
    "    with pm.Model() as funnel:\n",
    "        v = pm.Normal('v', 0, 3)\n",
    "        x_vec = pm.MvNormal('x_vec', mu=tt.zeros(dims), cov=2 * tt.exp(v) * tt.eye(dims), shape=dims)\n",
    "    return funnel\n",
    "\n",
    "with neals_funnel():\n",
    "    trace = pm.sample()"
   ]
  },
  {
   "cell_type": "code",
   "execution_count": 3,
   "metadata": {},
   "outputs": [
    {
     "name": "stderr",
     "output_type": "stream",
     "text": [
      "/home/fonnesbeck/anaconda3/envs/bayes_course/lib/python3.7/site-packages/arviz/plots/jointplot.py:149: UserWarning: plot_joint will be deprecated. Please use plot_pair instead.\n",
      "  warnings.warn(\"plot_joint will be deprecated. Please use plot_pair instead.\")\n",
      "/home/fonnesbeck/anaconda3/envs/bayes_course/lib/python3.7/site-packages/arviz/data/io_pymc3.py:89: FutureWarning: Using `from_pymc3` without the model will be deprecated in a future release. Not using the model will return less accurate and less useful results. Make sure you use the model argument or call from_pymc3 within a model context.\n",
      "  FutureWarning,\n"
     ]
    },
    {
     "data": {
      "image/png": "[encoded data removed]",
      "text/plain": [
       "<Figure size 432x288 with 3 Axes>"
      ]
     },
     "metadata": {
      "needs_background": "light"
     },
     "output_type": "display_data"
    }
   ],
   "source": [
    "pm.plot_joint(trace);"
   ]
  },
  {
   "cell_type": "markdown",
   "metadata": {},
   "source": [
    "## Effective Sample Size\n",
    "\n",
    "Given a series of samples $x_j$, the empirical mean is\n",
    "\n",
    "$$\n",
    "\\hat{\\mu} = \\frac{1}{n}\\sum_{j=1}^n x_j\n",
    "$$\n",
    "\n",
    "and the variance of the estimate of the empirical mean is \n",
    "\n",
    "$$\n",
    "\\operatorname{Var}(\\hat{\\mu}) = \\frac{\\sigma^2}{n},\n",
    "$$\n",
    "where $\\sigma^2$ is the true variance of the underlying distribution.\n",
    "\n",
    "Then the effective sample size is defined as the denominator that makes this relationship still be true:\n",
    "\n",
    "$$\n",
    "\\operatorname{Var}(\\hat{\\mu}) = \\frac{\\sigma^2}{n_{\\text{eff}}}.\n",
    "$$\n",
    "\n",
    "This quantity is difficult to compute: you might use multiple chains to estimate $\\operatorname{Var}(\\hat{\\mu})$, and estimating $\\sigma^2$ is sort of the point of all this MCMC. There is a great recent paper giving details: [Rank-normalization, folding, and localization: An improved $\\hat{R}$ for assessing convergence of MCMC](https://arxiv.org/abs/1903.08008)(Vehtari, Gelman, Simpson, Carpenter, Bürkner).\n",
    "\n",
    "## $\\hat{R}$\n",
    "\n",
    "Roughly, $\\hat{R}$ (\"r-hat\", \"R-Hat\", \"Gelman-Rubin statistic\") is the ratio of between-chain variance to within-chain variance. In practice, you compare a number of different measures of variance with eachother (first half of chain with second half, for example). This number should be *very* close to 1. Most libraries will let you know if it is not.\n",
    "\n",
    "## Closing advice\n",
    "\n",
    "Run at least 4 chains for your experiments, and pay attention to the indications your model had trouble fitting. These are problems with the inference algorithm, but now you have to worry about them!\n",
    "\n"
   ]
  },
  {
   "cell_type": "code",
   "execution_count": 4,
   "metadata": {},
   "outputs": [
    {
     "name": "stderr",
     "output_type": "stream",
     "text": [
      "/home/fonnesbeck/anaconda3/envs/bayes_course/lib/python3.7/site-packages/arviz/data/io_pymc3.py:89: FutureWarning: Using `from_pymc3` without the model will be deprecated in a future release. Not using the model will return less accurate and less useful results. Make sure you use the model argument or call from_pymc3 within a model context.\n",
      "  FutureWarning,\n"
     ]
    },
    {
     "data": {
      "text/html": [
       "<div>\n",
       "<style scoped>\n",
       "    .dataframe tbody tr th:only-of-type {\n",
       "        vertical-align: middle;\n",
       "    }\n",
       "\n",
       "    .dataframe tbody tr th {\n",
       "        vertical-align: top;\n",
       "    }\n",
       "\n",
       "    .dataframe thead th {\n",
       "        text-align: right;\n",
       "    }\n",
       "</style>\n",
       "<table border=\"1\" class=\"dataframe\">\n",
       "  <thead>\n",
       "    <tr style=\"text-align: right;\">\n",
       "      <th></th>\n",
       "      <th>mean</th>\n",
       "      <th>sd</th>\n",
       "      <th>hdi_3%</th>\n",
       "      <th>hdi_97%</th>\n",
       "      <th>mcse_mean</th>\n",
       "      <th>mcse_sd</th>\n",
       "      <th>ess_mean</th>\n",
       "      <th>ess_sd</th>\n",
       "      <th>ess_bulk</th>\n",
       "      <th>ess_tail</th>\n",
       "      <th>r_hat</th>\n",
       "    </tr>\n",
       "  </thead>\n",
       "  <tbody>\n",
       "    <tr>\n",
       "      <th>v</th>\n",
       "      <td>0.496</td>\n",
       "      <td>2.590</td>\n",
       "      <td>-4.242</td>\n",
       "      <td>4.997</td>\n",
       "      <td>0.421</td>\n",
       "      <td>0.300</td>\n",
       "      <td>38.0</td>\n",
       "      <td>38.0</td>\n",
       "      <td>32.0</td>\n",
       "      <td>13.0</td>\n",
       "      <td>1.04</td>\n",
       "    </tr>\n",
       "    <tr>\n",
       "      <th>x_vec[0]</th>\n",
       "      <td>0.972</td>\n",
       "      <td>9.361</td>\n",
       "      <td>-11.369</td>\n",
       "      <td>11.836</td>\n",
       "      <td>1.013</td>\n",
       "      <td>0.719</td>\n",
       "      <td>85.0</td>\n",
       "      <td>85.0</td>\n",
       "      <td>139.0</td>\n",
       "      <td>98.0</td>\n",
       "      <td>1.02</td>\n",
       "    </tr>\n",
       "  </tbody>\n",
       "</table>\n",
       "</div>"
      ],
      "text/plain": [
       "           mean     sd  hdi_3%  hdi_97%  mcse_mean  mcse_sd  ess_mean  ess_sd  \\\n",
       "v         0.496  2.590  -4.242    4.997      0.421    0.300      38.0    38.0   \n",
       "x_vec[0]  0.972  9.361 -11.369   11.836      1.013    0.719      85.0    85.0   \n",
       "\n",
       "          ess_bulk  ess_tail  r_hat  \n",
       "v             32.0      13.0   1.04  \n",
       "x_vec[0]     139.0      98.0   1.02  "
      ]
     },
     "execution_count": 4,
     "metadata": {},
     "output_type": "execute_result"
    }
   ],
   "source": [
    "pm.summary(trace)"
   ]
  },
  {
   "cell_type": "markdown",
   "metadata": {},
   "source": [
    "### Exercises\n",
    "\n",
    "1. There are a few warnings PyMC3 throws with the funnel model. `pm.summary` recovers a few. There are methods on the `trace` object that let you find the others yourself.\n",
    "2. Look up the centered eight schools model, and the non-centered eight schools model. The first had divergences, and the centering vs non-centering is a common reparameterization strategy\n",
    "3. `plot_parallel` is a way to try to visualize where your divergences occur, so you might get a clue as to how to reparametrize. Also `traceplot` will mark the location of divergences."
   ]
  }
 ],
 "metadata": {
  "kernelspec": {
   "display_name": "Python 3.7.6 64-bit ('bayes_course': conda)",
   "language": "python",
   "name": "python37664bitbayescoursecondaac15308fe835468386ae397edcb53ec9"
  },
  "language_info": {
   "codemirror_mode": {
    "name": "ipython",
    "version": 3
   },
   "file_extension": ".py",
   "mimetype": "text/x-python",
   "name": "python",
   "nbconvert_exporter": "python",
   "pygments_lexer": "ipython3",
   "version": "3.7.6"
  }
 },
 "nbformat": 4,
 "nbformat_minor": 4
}
